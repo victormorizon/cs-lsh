{
 "cells": [
  {
   "cell_type": "markdown",
   "metadata": {},
   "source": [
    "# Import Packages"
   ]
  },
  {
   "cell_type": "code",
   "execution_count": 1,
   "metadata": {},
   "outputs": [],
   "source": [
    "import pandas as pd\n",
    "import json\n",
    "import classes_functions as cf\n",
    "import numpy as np\n",
    "import re\n",
    "from tqdm.notebook import tqdm\n",
    "from scipy.interpolate import make_interp_spline\n",
    "import plotly.express as px"
   ]
  },
  {
   "cell_type": "markdown",
   "metadata": {},
   "source": [
    "# Load Data"
   ]
  },
  {
   "cell_type": "code",
   "execution_count": 33,
   "metadata": {},
   "outputs": [],
   "source": [
    "df = pd.DataFrame(columns=[\"shop\", \"url\", \"modelID\", \"featuresMap\", \"title\"])\n",
    "\n",
    "# Load brand data (https://www.kaggle.com/datasets/devsubhash/television-brands-ecommerce-dataset)\n",
    "brand_df = pd.read_csv(\"./Data/TV_Final.csv\")\n",
    "brands_ref = [i.lower().strip() for i in brand_df[[\"Brand\"]].drop_duplicates().to_numpy().flatten()] + [\"nec\", \"insignia\", \"supersonic\", \"viewsonic\", \"vizio\", \"coby\", \n",
    "                                                                                                    \"naxa\", \"rca\", \"dynex\", \"magnavox\", \"sunbritetv\", \"avue\", \n",
    "                                                                                                    \"venturer\", \"pyle\", \"westinghouse\", \"proscan\", \"sceptre\",\n",
    "                                                                                                    \"contex\", \"mitsubishi\", 'epson', \"hannspree\", \"curtisyoung\",\n",
    "                                                                                                    'hp', \"seiki\", \"azend\", \"hiteker\", \"upstar\", \"optoma\",\n",
    "                                                                                                    \"affinity\", \"viore\", \"craig\", \"elo\", \"gpx\"\n",
    "                                                                                                    ]\n",
    "\n",
    "# Create the simple regex pattern to find and match brand names\n",
    "brand_pattern = '|'.join(rf'\\b{re.escape(word)}\\b' for word in brands_ref)\n",
    "brand_regex_pattern = f'({brand_pattern})'\n",
    "\n",
    "# Reading the json as a dict\n",
    "with open(\"./Data/TVs-all-merged.json\") as json_data:\n",
    "    df_dict = json.load(json_data)\n",
    "\n",
    "# Populate dataframe with TV's\n",
    "for k, v in df_dict.items():\n",
    "    df = pd.concat([df, pd.DataFrame(v)], ignore_index=True)"
   ]
  },
  {
   "cell_type": "markdown",
   "metadata": {},
   "source": [
    "# Prep Data"
   ]
  },
  {
   "cell_type": "code",
   "execution_count": 34,
   "metadata": {},
   "outputs": [],
   "source": [
    "# Convert all titles to lower case for easier matching\n",
    "df[\"l_title\"] = df[\"title\"].str.lower()\n",
    "\n",
    "# Lists of words that will be replaced by \"hz\" and \"inch\" respectively\n",
    "hertz_list = ['hertz', ' hz', '-hz', ' hertz']\n",
    "inch_list = ['inches', ' inches', '\"', ' \"', '-inch', ' inch']\n",
    "\n",
    "# Replace words from the above lists and remove hyphens\n",
    "df['l_title'] = df['l_title'].replace(hertz_list, 'hz', regex=True)\n",
    "df['l_title'] = df['l_title'].replace(inch_list, 'inch', regex=True)\n",
    "df['l_title'] = df['l_title'].replace(\"-\", '', regex=True)\n",
    "\n",
    "# Remove things in parenthesis (usually not the most important information)\n",
    "parenthesis_regex = r'\\([^)]*\\)'\n",
    "sq_bracket_refex = r'/\\[.*\\]/'\n",
    "df['l_title'] = df['l_title'].replace(parenthesis_regex, '', regex=True)\n",
    "df['l_title'] = df['l_title'].replace(sq_bracket_refex, '', regex=True)\n",
    "\n",
    "# Pattern that extracts the main part of the model words\n",
    "regex_pattern = r'([a-zA-Z0-9]*(([0-9]+[^0-9, ]+)|([^0-9, ]+[0-9]+))[a-zA-Z0-9]*)'\n",
    "matches = df['l_title'].str.extractall(regex_pattern).groupby(level=0)[0].apply(set).apply(lambda x: sorted(x))\n",
    "df = df.merge(matches, how='left', left_index=True, right_index=True).rename(columns={0: 'main_feature_lst'})\n",
    "\n",
    "# Next extract the brand from the titles\n",
    "brand_matches = df['l_title'].str.extractall(brand_regex_pattern).groupby(level=0)[0].apply(set).apply(lambda x: sorted(x))\n",
    "df = df.merge(brand_matches, how='left', left_index=True, right_index=True).rename(columns={0: 'brand'})\n",
    "\n",
    "# Combine brand and main extract\n",
    "df['appended_column'] = df.apply(lambda row: row['main_feature_lst'] + row['brand'] if not any(pd.isna(row)) else \"\", axis=1)\n",
    "df['main_feature_w_id'] = df[\"appended_column\"].apply(lambda x: ' '.join(map(str, x)))\n",
    "\n",
    "# Find all the model ID's and append to the final model word\n",
    "id_regex = r'\\b(?=\\w*\\d)(?=\\w*[a-zA-Z])(?![\\w\\d]*(?:p|hz|inch|k|d)\\b)(\\w+)\\b'\n",
    "df[\"matched_id\"] = df[\"main_feature_w_id\"].str.findall(id_regex).apply(lambda x: max(x, default=np.nan, key=cf.get_length))\n",
    "df['main_feature'] = df['main_feature_w_id'].astype(str).str.replace(' ', '')"
   ]
  },
  {
   "cell_type": "markdown",
   "metadata": {},
   "source": [
    "# Main For-Loop (to create the graphs)"
   ]
  },
  {
   "cell_type": "code",
   "execution_count": 4,
   "metadata": {},
   "outputs": [],
   "source": [
    "# Loop Parameters\n",
    "shingling_size = 3\n",
    "hash_size = 8\n",
    "train_frac = 0.63\n",
    "nbr_runs = 10\n",
    "\n",
    "# Lists to save all parameters\n",
    "total_f1 = []\n",
    "total_f1_star = []\n",
    "bands = []\n",
    "fraction_of_comparisons = []\n",
    "\n",
    "for band_nbr in sorted(set([int(i) for i in np.logspace(1, 2.11, 100)])):\n",
    "\n",
    "    f1_list = []\n",
    "    f1_star_list = []\n",
    "    runtime_list = []\n",
    "    fraction_of_comparison_list = []\n",
    "\n",
    "    for i in tqdm(range(nbr_runs)):\n",
    "        f1, f1_star, confusion_matrix, all_pairs_without_dupes_test, runtime_sec, fraction_of_comparison = cf.main_run(df, train_frac, shingling_size, hash_size, band_nbr)\n",
    "        f1_list.append(f1)\n",
    "        f1_star_list.append(f1_star)\n",
    "        runtime_list.append(runtime_sec)\n",
    "        fraction_of_comparison_list.append(fraction_of_comparison)\n",
    "\n",
    "    total_f1.append(np.median(f1_list))\n",
    "    total_f1_star.append(np.median(f1_star_list))\n",
    "    fraction_of_comparisons.append(np.median(fraction_of_comparison_list))\n",
    "    bands.append(i)"
   ]
  },
  {
   "cell_type": "markdown",
   "metadata": {},
   "source": [
    "# Plotting"
   ]
  },
  {
   "cell_type": "code",
   "execution_count": 32,
   "metadata": {},
   "outputs": [],
   "source": [
    "final_plotting_df = pd.read_csv(\"./Data/plotting_data.csv\", index_col=0)\n",
    "final_plotting_df = final_plotting_df.rename(columns={'runtimime': 'runtime'})\n",
    "final_plotting_df = final_plotting_df.sort_values(\"fractions\")\n",
    "\n",
    "final_plotting_df = final_plotting_df.groupby(\"fractions\", as_index=False).agg({\"f1\": \"median\", \"f1_star\": \"median\", \"runtime\": \"median\"})\n",
    "\n",
    "fig = px.line(\n",
    "    x=final_plotting_df[\"fractions\"], \n",
    "    y=final_plotting_df[\"runtime\"].rolling(window=20).mean(), # Smoothing is applied to have better looking graphs\n",
    "    labels = {\n",
    "        \"x\": \"Fraction of Comparisons\",\n",
    "        \"y\": \"Runtime (s)\",\n",
    "    },\n",
    ")\n",
    "\n",
    "config = {\n",
    "  'toImageButtonOptions': {\n",
    "    'format': 'png',\n",
    "    'height': 400,\n",
    "    'width': 600,\n",
    "    'scale':6\n",
    "  }\n",
    "}\n",
    "\n",
    "fig.show(config=config)"
   ]
  },
  {
   "cell_type": "code",
   "execution_count": null,
   "metadata": {},
   "outputs": [],
   "source": []
  }
 ],
 "metadata": {
  "kernelspec": {
   "display_name": "Python 3",
   "language": "python",
   "name": "python3"
  },
  "language_info": {
   "codemirror_mode": {
    "name": "ipython",
    "version": 3
   },
   "file_extension": ".py",
   "mimetype": "text/x-python",
   "name": "python",
   "nbconvert_exporter": "python",
   "pygments_lexer": "ipython3",
   "version": "3.8.18"
  }
 },
 "nbformat": 4,
 "nbformat_minor": 2
}
